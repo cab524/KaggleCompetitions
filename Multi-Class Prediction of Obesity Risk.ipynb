{
 "cells": [
  {
   "cell_type": "code",
   "execution_count": 174,
   "id": "4433c0",
   "metadata": {
    "collapsed": false
   },
   "outputs": [
   ],
   "source": [
    "# Importing Necessary Libaries\n",
    "import tensorflow as tf\n",
    "import pandas as pd\n",
    "from sklearn.model_selection import train_test_split\n",
    "import matplotlib.pyplot as plt\n",
    "import numpy as np\n",
    "import math\n",
    "from sklearn.ensemble import RandomForestClassifier\n",
    "from sklearn import metrics\n",
    "from sklearn.model_selection import cross_val_score\n",
    "from sklearn.model_selection import StratifiedKFold\n",
    "from sklearn.tree import DecisionTreeClassifier\n",
    "from sklearn.metrics import r2_score"
   ]
  },
  {
   "cell_type": "code",
   "execution_count": 175,
   "id": "f36ace",
   "metadata": {
    "collapsed": false
   },
   "outputs": [
   ],
   "source": [
    "# Reading data in\n",
    "x = pd.read_csv('train.csv')\n",
    "xtest = pd.read_csv('test.csv')"
   ]
  },
  {
   "cell_type": "code",
   "execution_count": 176,
   "id": "b02e23",
   "metadata": {
    "collapsed": false
   },
   "outputs": [
   ],
   "source": [
    "# Setting index to be id\n",
    "x.set_index('id', inplace=True)\n",
    "xtest.set_index('id', inplace=True)"
   ]
  },
  {
   "cell_type": "code",
   "execution_count": 177,
   "id": "cdd906",
   "metadata": {
    "collapsed": false
   },
   "outputs": [
   ],
   "source": [
    "# Splitting data into tables of x and y variables\n",
    "y = x['NObeyesdad']\n",
    "x = x.drop('NObeyesdad', axis=1)"
   ]
  },
  {
   "cell_type": "code",
   "execution_count": 178,
   "id": "aa25d8",
   "metadata": {
    "collapsed": false
   },
   "outputs": [
    {
     "data": {
      "text/plain": [
       "id\n",
       "0        Overweight_Level_II\n",
       "1              Normal_Weight\n",
       "2        Insufficient_Weight\n",
       "3           Obesity_Type_III\n",
       "4        Overweight_Level_II\n",
       "                ...         \n",
       "20753        Obesity_Type_II\n",
       "20754    Insufficient_Weight\n",
       "20755        Obesity_Type_II\n",
       "20756    Overweight_Level_II\n",
       "20757        Obesity_Type_II\n",
       "Name: NObeyesdad, Length: 20758, dtype: object"
      ]
     },
     "execution_count": 178,
     "metadata": {
     },
     "output_type": "execute_result"
    }
   ],
   "source": [
    "y"
   ]
  },
  {
   "cell_type": "code",
   "execution_count": 179,
   "id": "344362",
   "metadata": {
    "collapsed": false
   },
   "outputs": [
    {
     "name": "stdout",
     "output_type": "stream",
     "text": [
      "['Overweight_Level_II' 'Normal_Weight' 'Insufficient_Weight'\n",
      " 'Obesity_Type_III' 'Obesity_Type_II' 'Overweight_Level_I'\n",
      " 'Obesity_Type_I']\n"
     ]
    }
   ],
   "source": [
    "# NOTE - 7 categories\n",
    "print(pd.unique(y))"
   ]
  },
  {
   "cell_type": "code",
   "execution_count": 180,
   "id": "fc7d87",
   "metadata": {
    "collapsed": false
   },
   "outputs": [
   ],
   "source": [
    "# one hot encoding\n",
    "# changing categorical variables to binary\n",
    "x['Female'] = np.where(x['Gender'] == 'Female', 1, 0)\n",
    "x['Male'] = np.where(x['Gender'] == 'Male', 1, 0)\n",
    "x = x.drop(['Gender'], axis=1)\n",
    "\n",
    "# ensuring that test data will be the same as the training data\n",
    "xtest['Female'] = np.where(xtest['Gender'] == 'Female', 1, 0)\n",
    "xtest['Male'] = np.where(xtest['Gender'] == 'Male', 1, 0)\n",
    "xtest = xtest.drop(['Gender'], axis=1)"
   ]
  },
  {
   "cell_type": "code",
   "execution_count": 181,
   "id": "980a6a",
   "metadata": {
    "collapsed": false
   },
   "outputs": [
   ],
   "source": [
    "# changing categorical variables to binary\n",
    "x['Family_History_Overweight'] = np.where(x['family_history_with_overweight'] == 'yes', 1, 0)\n",
    "x['No_Family_History_with_Overweight'] = np.where(x['family_history_with_overweight'] == 'no', 1, 0)\n",
    "x = x.drop(['family_history_with_overweight'], axis=1)\n",
    "\n",
    "# ensuring that test data will be the same as the training data\n",
    "xtest['Family_History_Overweight'] = np.where(xtest['family_history_with_overweight'] == 'yes', 1, 0)\n",
    "xtest['No_Family_History_with_Overweight'] = np.where(xtest['family_history_with_overweight'] == 'no', 1, 0)\n",
    "xtest = xtest.drop(['family_history_with_overweight'], axis=1)"
   ]
  },
  {
   "cell_type": "code",
   "execution_count": 182,
   "id": "3dbefb",
   "metadata": {
    "collapsed": false
   },
   "outputs": [
   ],
   "source": [
    "# FAVC - Frequent Consumption of High-Caloric Food\n",
    "x['YesFAVC'] = np.where(x['FAVC'] == 'yes', 1, 0)\n",
    "x['NoFAVC'] = np.where(x['FAVC'] == 'no', 1, 0)\n",
    "x = x.drop(['FAVC'], axis=1)\n",
    "\n",
    "# ensuring that test data will be the same as the training data\n",
    "xtest['YesFAVC'] = np.where(xtest['FAVC'] == 'yes', 1, 0)\n",
    "xtest['NoFAVC'] = np.where(xtest['FAVC'] == 'no', 1, 0)\n",
    "xtest = xtest.drop(['FAVC'], axis=1)"
   ]
  },
  {
   "cell_type": "code",
   "execution_count": 183,
   "id": "bc0f1d",
   "metadata": {
    "collapsed": false
   },
   "outputs": [
   ],
   "source": [
    "# SMOKE - changing categorical variables to binary\n",
    "x['SMOKE'] = np.where(x['SMOKE'] == 'yes', 1, 0)\n",
    "\n",
    "# ensuring that test data will be the same as the training data\n",
    "xtest['SMOKE'] = np.where(xtest['SMOKE'] == 'yes', 1, 0)"
   ]
  },
  {
   "cell_type": "code",
   "execution_count": 184,
   "id": "fb0ef7",
   "metadata": {
    "collapsed": false
   },
   "outputs": [
   ],
   "source": [
    "# SCC - Squamous Cell Carcinoma\n",
    "x['SCC'] = np.where(x['SCC'] == 'yes', 1, 0)\n",
    "\n",
    "# ensuring that test data will be the same as the training data\n",
    "xtest['SCC'] = np.where(xtest['SCC'] == 'yes', 1, 0)"
   ]
  },
  {
   "cell_type": "code",
   "execution_count": 185,
   "id": "81e884",
   "metadata": {
    "collapsed": false
   },
   "outputs": [
   ],
   "source": [
    "# CAEC - Cardiovascular Adiposity and Endocrine Complications\n",
    "# CALC - refers to the Body Mass Index (BMI) Calculator\n",
    "\n",
    "Response_code = {\n",
    "    'no': 0,\n",
    "    'Sometimes': 1,\n",
    "    'Frequently': 2,\n",
    "    'Always': 3,\n",
    "}\n",
    "\n",
    "x['CAEC'] = x['CAEC'].map(Response_code)\n",
    "x['CALC'] = x['CALC'].map(Response_code)\n",
    "xtest['CAEC'] = xtest['CAEC'].map(Response_code)\n",
    "xtest['CALC'] = xtest['CALC'].map(Response_code)\n",
    "# print(pd.unique(x['CAEC']))\n",
    "# print(pd.unique(x['CALC']))"
   ]
  },
  {
   "cell_type": "code",
   "execution_count": 186,
   "id": "3b62b2",
   "metadata": {
    "collapsed": false
   },
   "outputs": [
   ],
   "source": [
    "# MTRANS - mode of transportation\n",
    "# categorized transportation to make it usable\n",
    "\n",
    "Transportation_code = {\n",
    "    'Public_Transportation': 1,\n",
    "    'Automobile': 2,\n",
    "    'Walking': 3,\n",
    "    'Motorbike': 4,\n",
    "    'Bike': 5\n",
    "}\n",
    "\n",
    "x['MTRANS'] = x['MTRANS'].map(Transportation_code)\n",
    "xtest['MTRANS'] = xtest['MTRANS'].map(Transportation_code)\n",
    "# print(pd.unique(x['MTRANS']))"
   ]
  },
  {
   "cell_type": "code",
   "execution_count": 187,
   "id": "3ee07a",
   "metadata": {
    "collapsed": false
   },
   "outputs": [
    {
     "data": {
      "text/html": [
       "<div>\n",
       "<style scoped>\n",
       "    .dataframe tbody tr th:only-of-type {\n",
       "        vertical-align: middle;\n",
       "    }\n",
       "\n",
       "    .dataframe tbody tr th {\n",
       "        vertical-align: top;\n",
       "    }\n",
       "\n",
       "    .dataframe thead th {\n",
       "        text-align: right;\n",
       "    }\n",
       "</style>\n",
       "<table border=\"1\" class=\"dataframe\">\n",
       "  <thead>\n",
       "    <tr style=\"text-align: right;\">\n",
       "      <th></th>\n",
       "      <th>Age</th>\n",
       "      <th>Height</th>\n",
       "      <th>Weight</th>\n",
       "      <th>FCVC</th>\n",
       "      <th>NCP</th>\n",
       "      <th>CAEC</th>\n",
       "      <th>SMOKE</th>\n",
       "      <th>CH2O</th>\n",
       "      <th>SCC</th>\n",
       "      <th>FAF</th>\n",
       "      <th>TUE</th>\n",
       "      <th>CALC</th>\n",
       "      <th>MTRANS</th>\n",
       "      <th>Female</th>\n",
       "      <th>Male</th>\n",
       "      <th>Family_History_Overweight</th>\n",
       "      <th>No_Family_History_with_Overweight</th>\n",
       "      <th>YesFAVC</th>\n",
       "      <th>NoFAVC</th>\n",
       "    </tr>\n",
       "    <tr>\n",
       "      <th>id</th>\n",
       "      <th></th>\n",
       "      <th></th>\n",
       "      <th></th>\n",
       "      <th></th>\n",
       "      <th></th>\n",
       "      <th></th>\n",
       "      <th></th>\n",
       "      <th></th>\n",
       "      <th></th>\n",
       "      <th></th>\n",
       "      <th></th>\n",
       "      <th></th>\n",
       "      <th></th>\n",
       "      <th></th>\n",
       "      <th></th>\n",
       "      <th></th>\n",
       "      <th></th>\n",
       "      <th></th>\n",
       "      <th></th>\n",
       "    </tr>\n",
       "  </thead>\n",
       "  <tbody>\n",
       "    <tr>\n",
       "      <th>0</th>\n",
       "      <td>24.443011</td>\n",
       "      <td>1.699998</td>\n",
       "      <td>81.669950</td>\n",
       "      <td>2.000000</td>\n",
       "      <td>2.983297</td>\n",
       "      <td>1</td>\n",
       "      <td>0</td>\n",
       "      <td>2.763573</td>\n",
       "      <td>0</td>\n",
       "      <td>0.000000</td>\n",
       "      <td>0.976473</td>\n",
       "      <td>1</td>\n",
       "      <td>1</td>\n",
       "      <td>0</td>\n",
       "      <td>1</td>\n",
       "      <td>1</td>\n",
       "      <td>0</td>\n",
       "      <td>1</td>\n",
       "      <td>0</td>\n",
       "    </tr>\n",
       "    <tr>\n",
       "      <th>1</th>\n",
       "      <td>18.000000</td>\n",
       "      <td>1.560000</td>\n",
       "      <td>57.000000</td>\n",
       "      <td>2.000000</td>\n",
       "      <td>3.000000</td>\n",
       "      <td>2</td>\n",
       "      <td>0</td>\n",
       "      <td>2.000000</td>\n",
       "      <td>0</td>\n",
       "      <td>1.000000</td>\n",
       "      <td>1.000000</td>\n",
       "      <td>0</td>\n",
       "      <td>2</td>\n",
       "      <td>1</td>\n",
       "      <td>0</td>\n",
       "      <td>1</td>\n",
       "      <td>0</td>\n",
       "      <td>1</td>\n",
       "      <td>0</td>\n",
       "    </tr>\n",
       "    <tr>\n",
       "      <th>2</th>\n",
       "      <td>18.000000</td>\n",
       "      <td>1.711460</td>\n",
       "      <td>50.165754</td>\n",
       "      <td>1.880534</td>\n",
       "      <td>1.411685</td>\n",
       "      <td>1</td>\n",
       "      <td>0</td>\n",
       "      <td>1.910378</td>\n",
       "      <td>0</td>\n",
       "      <td>0.866045</td>\n",
       "      <td>1.673584</td>\n",
       "      <td>0</td>\n",
       "      <td>1</td>\n",
       "      <td>1</td>\n",
       "      <td>0</td>\n",
       "      <td>1</td>\n",
       "      <td>0</td>\n",
       "      <td>1</td>\n",
       "      <td>0</td>\n",
       "    </tr>\n",
       "    <tr>\n",
       "      <th>3</th>\n",
       "      <td>20.952737</td>\n",
       "      <td>1.710730</td>\n",
       "      <td>131.274851</td>\n",
       "      <td>3.000000</td>\n",
       "      <td>3.000000</td>\n",
       "      <td>1</td>\n",
       "      <td>0</td>\n",
       "      <td>1.674061</td>\n",
       "      <td>0</td>\n",
       "      <td>1.467863</td>\n",
       "      <td>0.780199</td>\n",
       "      <td>1</td>\n",
       "      <td>1</td>\n",
       "      <td>1</td>\n",
       "      <td>0</td>\n",
       "      <td>1</td>\n",
       "      <td>0</td>\n",
       "      <td>1</td>\n",
       "      <td>0</td>\n",
       "    </tr>\n",
       "    <tr>\n",
       "      <th>4</th>\n",
       "      <td>31.641081</td>\n",
       "      <td>1.914186</td>\n",
       "      <td>93.798055</td>\n",
       "      <td>2.679664</td>\n",
       "      <td>1.971472</td>\n",
       "      <td>1</td>\n",
       "      <td>0</td>\n",
       "      <td>1.979848</td>\n",
       "      <td>0</td>\n",
       "      <td>1.967973</td>\n",
       "      <td>0.931721</td>\n",
       "      <td>1</td>\n",
       "      <td>1</td>\n",
       "      <td>0</td>\n",
       "      <td>1</td>\n",
       "      <td>1</td>\n",
       "      <td>0</td>\n",
       "      <td>1</td>\n",
       "      <td>0</td>\n",
       "    </tr>\n",
       "    <tr>\n",
       "      <th>...</th>\n",
       "      <td>...</td>\n",
       "      <td>...</td>\n",
       "      <td>...</td>\n",
       "      <td>...</td>\n",
       "      <td>...</td>\n",
       "      <td>...</td>\n",
       "      <td>...</td>\n",
       "      <td>...</td>\n",
       "      <td>...</td>\n",
       "      <td>...</td>\n",
       "      <td>...</td>\n",
       "      <td>...</td>\n",
       "      <td>...</td>\n",
       "      <td>...</td>\n",
       "      <td>...</td>\n",
       "      <td>...</td>\n",
       "      <td>...</td>\n",
       "      <td>...</td>\n",
       "      <td>...</td>\n",
       "    </tr>\n",
       "    <tr>\n",
       "      <th>20753</th>\n",
       "      <td>25.137087</td>\n",
       "      <td>1.766626</td>\n",
       "      <td>114.187096</td>\n",
       "      <td>2.919584</td>\n",
       "      <td>3.000000</td>\n",
       "      <td>1</td>\n",
       "      <td>0</td>\n",
       "      <td>2.151809</td>\n",
       "      <td>0</td>\n",
       "      <td>1.330519</td>\n",
       "      <td>0.196680</td>\n",
       "      <td>1</td>\n",
       "      <td>1</td>\n",
       "      <td>0</td>\n",
       "      <td>1</td>\n",
       "      <td>1</td>\n",
       "      <td>0</td>\n",
       "      <td>1</td>\n",
       "      <td>0</td>\n",
       "    </tr>\n",
       "    <tr>\n",
       "      <th>20754</th>\n",
       "      <td>18.000000</td>\n",
       "      <td>1.710000</td>\n",
       "      <td>50.000000</td>\n",
       "      <td>3.000000</td>\n",
       "      <td>4.000000</td>\n",
       "      <td>2</td>\n",
       "      <td>0</td>\n",
       "      <td>1.000000</td>\n",
       "      <td>0</td>\n",
       "      <td>2.000000</td>\n",
       "      <td>1.000000</td>\n",
       "      <td>1</td>\n",
       "      <td>1</td>\n",
       "      <td>0</td>\n",
       "      <td>1</td>\n",
       "      <td>0</td>\n",
       "      <td>1</td>\n",
       "      <td>1</td>\n",
       "      <td>0</td>\n",
       "    </tr>\n",
       "    <tr>\n",
       "      <th>20755</th>\n",
       "      <td>20.101026</td>\n",
       "      <td>1.819557</td>\n",
       "      <td>105.580491</td>\n",
       "      <td>2.407817</td>\n",
       "      <td>3.000000</td>\n",
       "      <td>1</td>\n",
       "      <td>0</td>\n",
       "      <td>2.000000</td>\n",
       "      <td>0</td>\n",
       "      <td>1.158040</td>\n",
       "      <td>1.198439</td>\n",
       "      <td>0</td>\n",
       "      <td>1</td>\n",
       "      <td>0</td>\n",
       "      <td>1</td>\n",
       "      <td>1</td>\n",
       "      <td>0</td>\n",
       "      <td>1</td>\n",
       "      <td>0</td>\n",
       "    </tr>\n",
       "    <tr>\n",
       "      <th>20756</th>\n",
       "      <td>33.852953</td>\n",
       "      <td>1.700000</td>\n",
       "      <td>83.520113</td>\n",
       "      <td>2.671238</td>\n",
       "      <td>1.971472</td>\n",
       "      <td>1</td>\n",
       "      <td>0</td>\n",
       "      <td>2.144838</td>\n",
       "      <td>0</td>\n",
       "      <td>0.000000</td>\n",
       "      <td>0.973834</td>\n",
       "      <td>0</td>\n",
       "      <td>2</td>\n",
       "      <td>0</td>\n",
       "      <td>1</td>\n",
       "      <td>1</td>\n",
       "      <td>0</td>\n",
       "      <td>1</td>\n",
       "      <td>0</td>\n",
       "    </tr>\n",
       "    <tr>\n",
       "      <th>20757</th>\n",
       "      <td>26.680376</td>\n",
       "      <td>1.816547</td>\n",
       "      <td>118.134898</td>\n",
       "      <td>3.000000</td>\n",
       "      <td>3.000000</td>\n",
       "      <td>1</td>\n",
       "      <td>0</td>\n",
       "      <td>2.003563</td>\n",
       "      <td>0</td>\n",
       "      <td>0.684487</td>\n",
       "      <td>0.713823</td>\n",
       "      <td>1</td>\n",
       "      <td>1</td>\n",
       "      <td>0</td>\n",
       "      <td>1</td>\n",
       "      <td>1</td>\n",
       "      <td>0</td>\n",
       "      <td>1</td>\n",
       "      <td>0</td>\n",
       "    </tr>\n",
       "  </tbody>\n",
       "</table>\n",
       "<p>20758 rows × 19 columns</p>\n",
       "</div>"
      ],
      "text/plain": [
       "             Age    Height      Weight      FCVC       NCP  CAEC  SMOKE  \\\n",
       "id                                                                        \n",
       "0      24.443011  1.699998   81.669950  2.000000  2.983297     1      0   \n",
       "1      18.000000  1.560000   57.000000  2.000000  3.000000     2      0   \n",
       "2      18.000000  1.711460   50.165754  1.880534  1.411685     1      0   \n",
       "3      20.952737  1.710730  131.274851  3.000000  3.000000     1      0   \n",
       "4      31.641081  1.914186   93.798055  2.679664  1.971472     1      0   \n",
       "...          ...       ...         ...       ...       ...   ...    ...   \n",
       "20753  25.137087  1.766626  114.187096  2.919584  3.000000     1      0   \n",
       "20754  18.000000  1.710000   50.000000  3.000000  4.000000     2      0   \n",
       "20755  20.101026  1.819557  105.580491  2.407817  3.000000     1      0   \n",
       "20756  33.852953  1.700000   83.520113  2.671238  1.971472     1      0   \n",
       "20757  26.680376  1.816547  118.134898  3.000000  3.000000     1      0   \n",
       "\n",
       "           CH2O  SCC       FAF       TUE  CALC  MTRANS  Female  Male  \\\n",
       "id                                                                     \n",
       "0      2.763573    0  0.000000  0.976473     1       1       0     1   \n",
       "1      2.000000    0  1.000000  1.000000     0       2       1     0   \n",
       "2      1.910378    0  0.866045  1.673584     0       1       1     0   \n",
       "3      1.674061    0  1.467863  0.780199     1       1       1     0   \n",
       "4      1.979848    0  1.967973  0.931721     1       1       0     1   \n",
       "...         ...  ...       ...       ...   ...     ...     ...   ...   \n",
       "20753  2.151809    0  1.330519  0.196680     1       1       0     1   \n",
       "20754  1.000000    0  2.000000  1.000000     1       1       0     1   \n",
       "20755  2.000000    0  1.158040  1.198439     0       1       0     1   \n",
       "20756  2.144838    0  0.000000  0.973834     0       2       0     1   \n",
       "20757  2.003563    0  0.684487  0.713823     1       1       0     1   \n",
       "\n",
       "       Family_History_Overweight  No_Family_History_with_Overweight  YesFAVC  \\\n",
       "id                                                                             \n",
       "0                              1                                  0        1   \n",
       "1                              1                                  0        1   \n",
       "2                              1                                  0        1   \n",
       "3                              1                                  0        1   \n",
       "4                              1                                  0        1   \n",
       "...                          ...                                ...      ...   \n",
       "20753                          1                                  0        1   \n",
       "20754                          0                                  1        1   \n",
       "20755                          1                                  0        1   \n",
       "20756                          1                                  0        1   \n",
       "20757                          1                                  0        1   \n",
       "\n",
       "       NoFAVC  \n",
       "id             \n",
       "0           0  \n",
       "1           0  \n",
       "2           0  \n",
       "3           0  \n",
       "4           0  \n",
       "...       ...  \n",
       "20753       0  \n",
       "20754       0  \n",
       "20755       0  \n",
       "20756       0  \n",
       "20757       0  \n",
       "\n",
       "[20758 rows x 19 columns]"
      ]
     },
     "execution_count": 187,
     "metadata": {
     },
     "output_type": "execute_result"
    }
   ],
   "source": [
    "x"
   ]
  },
  {
   "cell_type": "code",
   "execution_count": 188,
   "id": "4d7621",
   "metadata": {
    "collapsed": false
   },
   "outputs": [
    {
     "name": "stdout",
     "output_type": "stream",
     "text": [
      "['Overweight_Level_II' 'Normal_Weight' 'Insufficient_Weight'\n",
      " 'Obesity_Type_III' 'Obesity_Type_II' 'Overweight_Level_I'\n",
      " 'Obesity_Type_I']\n"
     ]
    }
   ],
   "source": [
    "# NOTE - 7 categories\n",
    "print(pd.unique(y))"
   ]
  },
  {
   "cell_type": "code",
   "execution_count": 189,
   "id": "ec3af2",
   "metadata": {
    "collapsed": false
   },
   "outputs": [
   ],
   "source": [
    "# mapping it so it can be used \n",
    "Weight_code = {\n",
    "    'Insufficient_Weight': 1,\n",
    "    'Normal_Weight': 2,\n",
    "    'Overweight_Level_I': 3,\n",
    "    'Overweight_Level_II': 4,\n",
    "    'Obesity_Type_I': 5,\n",
    "    'Obesity_Type_II': 6,\n",
    "    'Obesity_Type_III': 7\n",
    "}\n",
    "\n",
    "y = y.map(Weight_code)"
   ]
  },
  {
   "cell_type": "code",
   "execution_count": 190,
   "id": "0d6e84",
   "metadata": {
    "collapsed": false
   },
   "outputs": [
    {
     "data": {
      "text/plain": [
       "id\n",
       "0        4\n",
       "1        2\n",
       "2        1\n",
       "3        7\n",
       "4        4\n",
       "        ..\n",
       "20753    6\n",
       "20754    1\n",
       "20755    6\n",
       "20756    4\n",
       "20757    6\n",
       "Name: NObeyesdad, Length: 20758, dtype: int64"
      ]
     },
     "execution_count": 190,
     "metadata": {
     },
     "output_type": "execute_result"
    }
   ],
   "source": [
    "y"
   ]
  },
  {
   "cell_type": "code",
   "execution_count": 191,
   "id": "3047c5",
   "metadata": {
    "collapsed": false
   },
   "outputs": [
    {
     "data": {
      "text/html": [
       "<div>\n",
       "<style scoped>\n",
       "    .dataframe tbody tr th:only-of-type {\n",
       "        vertical-align: middle;\n",
       "    }\n",
       "\n",
       "    .dataframe tbody tr th {\n",
       "        vertical-align: top;\n",
       "    }\n",
       "\n",
       "    .dataframe thead th {\n",
       "        text-align: right;\n",
       "    }\n",
       "</style>\n",
       "<table border=\"1\" class=\"dataframe\">\n",
       "  <thead>\n",
       "    <tr style=\"text-align: right;\">\n",
       "      <th></th>\n",
       "      <th>Age</th>\n",
       "      <th>Height</th>\n",
       "      <th>Weight</th>\n",
       "      <th>FCVC</th>\n",
       "      <th>NCP</th>\n",
       "      <th>CAEC</th>\n",
       "      <th>SMOKE</th>\n",
       "      <th>CH2O</th>\n",
       "      <th>SCC</th>\n",
       "      <th>FAF</th>\n",
       "      <th>TUE</th>\n",
       "      <th>CALC</th>\n",
       "      <th>MTRANS</th>\n",
       "      <th>Female</th>\n",
       "      <th>Male</th>\n",
       "      <th>Family_History_Overweight</th>\n",
       "      <th>No_Family_History_with_Overweight</th>\n",
       "      <th>YesFAVC</th>\n",
       "      <th>NoFAVC</th>\n",
       "    </tr>\n",
       "    <tr>\n",
       "      <th>id</th>\n",
       "      <th></th>\n",
       "      <th></th>\n",
       "      <th></th>\n",
       "      <th></th>\n",
       "      <th></th>\n",
       "      <th></th>\n",
       "      <th></th>\n",
       "      <th></th>\n",
       "      <th></th>\n",
       "      <th></th>\n",
       "      <th></th>\n",
       "      <th></th>\n",
       "      <th></th>\n",
       "      <th></th>\n",
       "      <th></th>\n",
       "      <th></th>\n",
       "      <th></th>\n",
       "      <th></th>\n",
       "      <th></th>\n",
       "    </tr>\n",
       "  </thead>\n",
       "  <tbody>\n",
       "    <tr>\n",
       "      <th>0</th>\n",
       "      <td>24.443011</td>\n",
       "      <td>1.699998</td>\n",
       "      <td>81.669950</td>\n",
       "      <td>2.000000</td>\n",
       "      <td>2.983297</td>\n",
       "      <td>1</td>\n",
       "      <td>0</td>\n",
       "      <td>2.763573</td>\n",
       "      <td>0</td>\n",
       "      <td>0.000000</td>\n",
       "      <td>0.976473</td>\n",
       "      <td>1</td>\n",
       "      <td>1</td>\n",
       "      <td>0</td>\n",
       "      <td>1</td>\n",
       "      <td>1</td>\n",
       "      <td>0</td>\n",
       "      <td>1</td>\n",
       "      <td>0</td>\n",
       "    </tr>\n",
       "    <tr>\n",
       "      <th>1</th>\n",
       "      <td>18.000000</td>\n",
       "      <td>1.560000</td>\n",
       "      <td>57.000000</td>\n",
       "      <td>2.000000</td>\n",
       "      <td>3.000000</td>\n",
       "      <td>2</td>\n",
       "      <td>0</td>\n",
       "      <td>2.000000</td>\n",
       "      <td>0</td>\n",
       "      <td>1.000000</td>\n",
       "      <td>1.000000</td>\n",
       "      <td>0</td>\n",
       "      <td>2</td>\n",
       "      <td>1</td>\n",
       "      <td>0</td>\n",
       "      <td>1</td>\n",
       "      <td>0</td>\n",
       "      <td>1</td>\n",
       "      <td>0</td>\n",
       "    </tr>\n",
       "    <tr>\n",
       "      <th>2</th>\n",
       "      <td>18.000000</td>\n",
       "      <td>1.711460</td>\n",
       "      <td>50.165754</td>\n",
       "      <td>1.880534</td>\n",
       "      <td>1.411685</td>\n",
       "      <td>1</td>\n",
       "      <td>0</td>\n",
       "      <td>1.910378</td>\n",
       "      <td>0</td>\n",
       "      <td>0.866045</td>\n",
       "      <td>1.673584</td>\n",
       "      <td>0</td>\n",
       "      <td>1</td>\n",
       "      <td>1</td>\n",
       "      <td>0</td>\n",
       "      <td>1</td>\n",
       "      <td>0</td>\n",
       "      <td>1</td>\n",
       "      <td>0</td>\n",
       "    </tr>\n",
       "    <tr>\n",
       "      <th>3</th>\n",
       "      <td>20.952737</td>\n",
       "      <td>1.710730</td>\n",
       "      <td>131.274851</td>\n",
       "      <td>3.000000</td>\n",
       "      <td>3.000000</td>\n",
       "      <td>1</td>\n",
       "      <td>0</td>\n",
       "      <td>1.674061</td>\n",
       "      <td>0</td>\n",
       "      <td>1.467863</td>\n",
       "      <td>0.780199</td>\n",
       "      <td>1</td>\n",
       "      <td>1</td>\n",
       "      <td>1</td>\n",
       "      <td>0</td>\n",
       "      <td>1</td>\n",
       "      <td>0</td>\n",
       "      <td>1</td>\n",
       "      <td>0</td>\n",
       "    </tr>\n",
       "    <tr>\n",
       "      <th>4</th>\n",
       "      <td>31.641081</td>\n",
       "      <td>1.914186</td>\n",
       "      <td>93.798055</td>\n",
       "      <td>2.679664</td>\n",
       "      <td>1.971472</td>\n",
       "      <td>1</td>\n",
       "      <td>0</td>\n",
       "      <td>1.979848</td>\n",
       "      <td>0</td>\n",
       "      <td>1.967973</td>\n",
       "      <td>0.931721</td>\n",
       "      <td>1</td>\n",
       "      <td>1</td>\n",
       "      <td>0</td>\n",
       "      <td>1</td>\n",
       "      <td>1</td>\n",
       "      <td>0</td>\n",
       "      <td>1</td>\n",
       "      <td>0</td>\n",
       "    </tr>\n",
       "    <tr>\n",
       "      <th>...</th>\n",
       "      <td>...</td>\n",
       "      <td>...</td>\n",
       "      <td>...</td>\n",
       "      <td>...</td>\n",
       "      <td>...</td>\n",
       "      <td>...</td>\n",
       "      <td>...</td>\n",
       "      <td>...</td>\n",
       "      <td>...</td>\n",
       "      <td>...</td>\n",
       "      <td>...</td>\n",
       "      <td>...</td>\n",
       "      <td>...</td>\n",
       "      <td>...</td>\n",
       "      <td>...</td>\n",
       "      <td>...</td>\n",
       "      <td>...</td>\n",
       "      <td>...</td>\n",
       "      <td>...</td>\n",
       "    </tr>\n",
       "    <tr>\n",
       "      <th>20753</th>\n",
       "      <td>25.137087</td>\n",
       "      <td>1.766626</td>\n",
       "      <td>114.187096</td>\n",
       "      <td>2.919584</td>\n",
       "      <td>3.000000</td>\n",
       "      <td>1</td>\n",
       "      <td>0</td>\n",
       "      <td>2.151809</td>\n",
       "      <td>0</td>\n",
       "      <td>1.330519</td>\n",
       "      <td>0.196680</td>\n",
       "      <td>1</td>\n",
       "      <td>1</td>\n",
       "      <td>0</td>\n",
       "      <td>1</td>\n",
       "      <td>1</td>\n",
       "      <td>0</td>\n",
       "      <td>1</td>\n",
       "      <td>0</td>\n",
       "    </tr>\n",
       "    <tr>\n",
       "      <th>20754</th>\n",
       "      <td>18.000000</td>\n",
       "      <td>1.710000</td>\n",
       "      <td>50.000000</td>\n",
       "      <td>3.000000</td>\n",
       "      <td>4.000000</td>\n",
       "      <td>2</td>\n",
       "      <td>0</td>\n",
       "      <td>1.000000</td>\n",
       "      <td>0</td>\n",
       "      <td>2.000000</td>\n",
       "      <td>1.000000</td>\n",
       "      <td>1</td>\n",
       "      <td>1</td>\n",
       "      <td>0</td>\n",
       "      <td>1</td>\n",
       "      <td>0</td>\n",
       "      <td>1</td>\n",
       "      <td>1</td>\n",
       "      <td>0</td>\n",
       "    </tr>\n",
       "    <tr>\n",
       "      <th>20755</th>\n",
       "      <td>20.101026</td>\n",
       "      <td>1.819557</td>\n",
       "      <td>105.580491</td>\n",
       "      <td>2.407817</td>\n",
       "      <td>3.000000</td>\n",
       "      <td>1</td>\n",
       "      <td>0</td>\n",
       "      <td>2.000000</td>\n",
       "      <td>0</td>\n",
       "      <td>1.158040</td>\n",
       "      <td>1.198439</td>\n",
       "      <td>0</td>\n",
       "      <td>1</td>\n",
       "      <td>0</td>\n",
       "      <td>1</td>\n",
       "      <td>1</td>\n",
       "      <td>0</td>\n",
       "      <td>1</td>\n",
       "      <td>0</td>\n",
       "    </tr>\n",
       "    <tr>\n",
       "      <th>20756</th>\n",
       "      <td>33.852953</td>\n",
       "      <td>1.700000</td>\n",
       "      <td>83.520113</td>\n",
       "      <td>2.671238</td>\n",
       "      <td>1.971472</td>\n",
       "      <td>1</td>\n",
       "      <td>0</td>\n",
       "      <td>2.144838</td>\n",
       "      <td>0</td>\n",
       "      <td>0.000000</td>\n",
       "      <td>0.973834</td>\n",
       "      <td>0</td>\n",
       "      <td>2</td>\n",
       "      <td>0</td>\n",
       "      <td>1</td>\n",
       "      <td>1</td>\n",
       "      <td>0</td>\n",
       "      <td>1</td>\n",
       "      <td>0</td>\n",
       "    </tr>\n",
       "    <tr>\n",
       "      <th>20757</th>\n",
       "      <td>26.680376</td>\n",
       "      <td>1.816547</td>\n",
       "      <td>118.134898</td>\n",
       "      <td>3.000000</td>\n",
       "      <td>3.000000</td>\n",
       "      <td>1</td>\n",
       "      <td>0</td>\n",
       "      <td>2.003563</td>\n",
       "      <td>0</td>\n",
       "      <td>0.684487</td>\n",
       "      <td>0.713823</td>\n",
       "      <td>1</td>\n",
       "      <td>1</td>\n",
       "      <td>0</td>\n",
       "      <td>1</td>\n",
       "      <td>1</td>\n",
       "      <td>0</td>\n",
       "      <td>1</td>\n",
       "      <td>0</td>\n",
       "    </tr>\n",
       "  </tbody>\n",
       "</table>\n",
       "<p>20758 rows × 19 columns</p>\n",
       "</div>"
      ],
      "text/plain": [
       "             Age    Height      Weight      FCVC       NCP  CAEC  SMOKE  \\\n",
       "id                                                                        \n",
       "0      24.443011  1.699998   81.669950  2.000000  2.983297     1      0   \n",
       "1      18.000000  1.560000   57.000000  2.000000  3.000000     2      0   \n",
       "2      18.000000  1.711460   50.165754  1.880534  1.411685     1      0   \n",
       "3      20.952737  1.710730  131.274851  3.000000  3.000000     1      0   \n",
       "4      31.641081  1.914186   93.798055  2.679664  1.971472     1      0   \n",
       "...          ...       ...         ...       ...       ...   ...    ...   \n",
       "20753  25.137087  1.766626  114.187096  2.919584  3.000000     1      0   \n",
       "20754  18.000000  1.710000   50.000000  3.000000  4.000000     2      0   \n",
       "20755  20.101026  1.819557  105.580491  2.407817  3.000000     1      0   \n",
       "20756  33.852953  1.700000   83.520113  2.671238  1.971472     1      0   \n",
       "20757  26.680376  1.816547  118.134898  3.000000  3.000000     1      0   \n",
       "\n",
       "           CH2O  SCC       FAF       TUE  CALC  MTRANS  Female  Male  \\\n",
       "id                                                                     \n",
       "0      2.763573    0  0.000000  0.976473     1       1       0     1   \n",
       "1      2.000000    0  1.000000  1.000000     0       2       1     0   \n",
       "2      1.910378    0  0.866045  1.673584     0       1       1     0   \n",
       "3      1.674061    0  1.467863  0.780199     1       1       1     0   \n",
       "4      1.979848    0  1.967973  0.931721     1       1       0     1   \n",
       "...         ...  ...       ...       ...   ...     ...     ...   ...   \n",
       "20753  2.151809    0  1.330519  0.196680     1       1       0     1   \n",
       "20754  1.000000    0  2.000000  1.000000     1       1       0     1   \n",
       "20755  2.000000    0  1.158040  1.198439     0       1       0     1   \n",
       "20756  2.144838    0  0.000000  0.973834     0       2       0     1   \n",
       "20757  2.003563    0  0.684487  0.713823     1       1       0     1   \n",
       "\n",
       "       Family_History_Overweight  No_Family_History_with_Overweight  YesFAVC  \\\n",
       "id                                                                             \n",
       "0                              1                                  0        1   \n",
       "1                              1                                  0        1   \n",
       "2                              1                                  0        1   \n",
       "3                              1                                  0        1   \n",
       "4                              1                                  0        1   \n",
       "...                          ...                                ...      ...   \n",
       "20753                          1                                  0        1   \n",
       "20754                          0                                  1        1   \n",
       "20755                          1                                  0        1   \n",
       "20756                          1                                  0        1   \n",
       "20757                          1                                  0        1   \n",
       "\n",
       "       NoFAVC  \n",
       "id             \n",
       "0           0  \n",
       "1           0  \n",
       "2           0  \n",
       "3           0  \n",
       "4           0  \n",
       "...       ...  \n",
       "20753       0  \n",
       "20754       0  \n",
       "20755       0  \n",
       "20756       0  \n",
       "20757       0  \n",
       "\n",
       "[20758 rows x 19 columns]"
      ]
     },
     "execution_count": 191,
     "metadata": {
     },
     "output_type": "execute_result"
    }
   ],
   "source": [
    "x"
   ]
  },
  {
   "cell_type": "code",
   "execution_count": 192,
   "id": "df3857",
   "metadata": {
    "collapsed": false
   },
   "outputs": [
    {
     "name": "stdout",
     "output_type": "stream",
     "text": [
      "Female_matrix\n",
      " [[1.         0.06769902]\n",
      " [0.06769902 1.        ]]\n",
      "\n",
      "Male_matrix\n",
      " [[ 1.         -0.06769902]\n",
      " [-0.06769902  1.        ]]\n"
     ]
    }
   ],
   "source": [
    "# Checking correlation of sex to obesity risk\n",
    "Female_matrix = np.corrcoef(x['Female'], y)\n",
    "print(\"Female_matrix\\n\", Female_matrix) #NOTE: strong correlation to survival rate\n",
    "Male_matrix = np.corrcoef(x['Male'], y)\n",
    "print(\"\\nMale_matrix\\n\", Male_matrix) #NOTE: negative correlation to surival rate - shouldn't have both variables in model also due to multicollinearity\n",
    "x = x.drop('Male', axis=1)\n",
    "xtest = xtest.drop('Male', axis=1)"
   ]
  },
  {
   "cell_type": "code",
   "execution_count": 193,
   "id": "25a7e1",
   "metadata": {
    "collapsed": false
   },
   "outputs": [
    {
     "name": "stdout",
     "output_type": "stream",
     "text": [
      "Family_History_Overweight_matrix\n",
      " [[1.         0.52202562]\n",
      " [0.52202562 1.        ]]\n",
      "\n",
      "No_Family_History_with_Overweight\n",
      " [[ 1.         -0.52202562]\n",
      " [-0.52202562  1.        ]]\n"
     ]
    }
   ],
   "source": [
    "# Checking correlation of family history to obesity risk\n",
    "FamilyHistory_matrix = np.corrcoef(x['Family_History_Overweight'], y)\n",
    "print(\"Family_History_Overweight_matrix\\n\", FamilyHistory_matrix) #NOTE: Super strong correlation\n",
    "NoFamilyHistory_matrix = np.corrcoef(x['No_Family_History_with_Overweight'], y)\n",
    "print(\"\\nNo_Family_History_with_Overweight\\n\", NoFamilyHistory_matrix) #NOTE: Negative correlation\n",
    "x = x.drop('No_Family_History_with_Overweight', axis=1) #dropping variable so there won't be multicollinearity\n",
    "xtest = xtest.drop('No_Family_History_with_Overweight', axis=1)"
   ]
  },
  {
   "cell_type": "code",
   "execution_count": 194,
   "id": "465ce9",
   "metadata": {
    "collapsed": false
   },
   "outputs": [
    {
     "name": "stdout",
     "output_type": "stream",
     "text": [
      "YesFAVC\n",
      " [[1.         0.21540067]\n",
      " [0.21540067 1.        ]]\n",
      "\n",
      "NoFAVC\n",
      " [[ 1.         -0.21540067]\n",
      " [-0.21540067  1.        ]]\n"
     ]
    }
   ],
   "source": [
    "# Checking correlation of FAVC to obesity risk\n",
    "YesFAVC_matrix = np.corrcoef(x['YesFAVC'], y)\n",
    "print(\"YesFAVC\\n\", YesFAVC_matrix) #NOTE: Strong correlation\n",
    "NoFAVC_matrix = np.corrcoef(x['NoFAVC'], y)\n",
    "print(\"\\nNoFAVC\\n\", NoFAVC_matrix) #NOTE: Negative correlation\n",
    "x = x.drop('NoFAVC', axis=1)\n",
    "xtest = xtest.drop('NoFAVC', axis=1)"
   ]
  },
  {
   "cell_type": "code",
   "execution_count": 195,
   "id": "7667b2",
   "metadata": {
    "collapsed": false
   },
   "outputs": [
    {
     "name": "stdout",
     "output_type": "stream",
     "text": [
      "SCC\n",
      " [[ 1.         -0.18495934]\n",
      " [-0.18495934  1.        ]]\n",
      "\n",
      "SMOKE\n",
      " [[1.         0.01350135]\n",
      " [0.01350135 1.        ]]\n",
      "\n",
      "CAEC\n",
      " [[ 1.         -0.36405174]\n",
      " [-0.36405174  1.        ]]\n",
      "\n",
      "CALC\n",
      " [[1.         0.18936104]\n",
      " [0.18936104 1.        ]]\n",
      "\n",
      "MTRANS\n",
      " [[ 1.         -0.09693909]\n",
      " [-0.09693909  1.        ]]\n"
     ]
    }
   ],
   "source": [
    "# Checking correlation of binary/categorical variables to obesity risk\n",
    "SCC_matrix = np.corrcoef(x['SCC'], y)\n",
    "print(\"SCC\\n\", SCC_matrix) #NOTE: negative correlation to obesity risk\n",
    "SMOKE_matrix = np.corrcoef(x['SMOKE'], y)\n",
    "print(\"\\nSMOKE\\n\", SMOKE_matrix) #NOTE: little correlation\n",
    "CAEC_matrix = np.corrcoef(x['CAEC'], y)\n",
    "print(\"\\nCAEC\\n\", CAEC_matrix) #NOTE: strong negative correlation\n",
    "CALC_matrix = np.corrcoef(x['CALC'], y)\n",
    "print(\"\\nCALC\\n\", CALC_matrix) #NOTE: decent correlation\n",
    "MTRANS_matrix = np.corrcoef(x['MTRANS'], y)\n",
    "print(\"\\nMTRANS\\n\", MTRANS_matrix) #NOTE: decent negative correlation"
   ]
  },
  {
   "cell_type": "code",
   "execution_count": 196,
   "id": "713e3b",
   "metadata": {
    "collapsed": false
   },
   "outputs": [
    {
     "name": "stdout",
     "output_type": "stream",
     "text": [
      "Age\n",
      " [[1.         0.35621105]\n",
      " [0.35621105 1.        ]]\n",
      "\n",
      "Height\n",
      " [[1.         0.15014108]\n",
      " [0.15014108 1.        ]]\n",
      "\n",
      "Weight\n",
      " [[1.        0.9212503]\n",
      " [0.9212503 1.       ]]\n",
      "\n",
      "FCVC\n",
      " [[1.         0.27293289]\n",
      " [0.27293289 1.        ]]\n",
      "\n",
      "NCP\n",
      " [[1.         0.02722691]\n",
      " [0.02722691 1.        ]]\n",
      "\n",
      "CH2O\n",
      " [[1.         0.27315371]\n",
      " [0.27315371 1.        ]]\n",
      "\n",
      "FAF\n",
      " [[ 1.         -0.23474454]\n",
      " [-0.23474454  1.        ]]\n",
      "\n",
      "TUE\n",
      " [[ 1.         -0.12100862]\n",
      " [-0.12100862  1.        ]]\n"
     ]
    }
   ],
   "source": [
    "# Checking correlation of continuous variables to obesity risk\n",
    "Age_matrix = np.corrcoef(x['Age'], y)\n",
    "print(\"Age\\n\", Age_matrix) #NOTE: Strong correlation\n",
    "Height_matrix = np.corrcoef(x['Height'], y)\n",
    "print(\"\\nHeight\\n\", Height_matrix) #NOTE: decent correlation\n",
    "Weight_matrix = np.corrcoef(x['Weight'], y)\n",
    "print(\"\\nWeight\\n\", Weight_matrix) #NOTE: Super strong correlation\n",
    "FCVC_matrix = np.corrcoef(x['FCVC'], y)\n",
    "print(\"\\nFCVC\\n\", FCVC_matrix) #NOTE: strong correlation\n",
    "NCP_matrix = np.corrcoef(x['NCP'], y)\n",
    "print(\"\\nNCP\\n\", NCP_matrix) #NOTE: little correlation\n",
    "CH2O_matrix = np.corrcoef(x['CH2O'], y)\n",
    "print(\"\\nCH2O\\n\", CH2O_matrix) #NOTE: strong correlation\n",
    "FAF_matrix = np.corrcoef(x['FAF'], y)\n",
    "print(\"\\nFAF\\n\", FAF_matrix) #NOTE: strong negative correlation\n",
    "TUE_matrix = np.corrcoef(x['TUE'], y)\n",
    "print(\"\\nTUE\\n\", TUE_matrix) #NOTE: negative correlation"
   ]
  },
  {
   "cell_type": "code",
   "execution_count": 197,
   "id": "07a683",
   "metadata": {
    "collapsed": false
   },
   "outputs": [
   ],
   "source": [
    "# split data into training and validation sets\n",
    "x_train, x_val, y_train, y_val = train_test_split(x, y, test_size=0.2, random_state=2)"
   ]
  },
  {
   "cell_type": "code",
   "execution_count": 198,
   "id": "477df3",
   "metadata": {
    "collapsed": false
   },
   "outputs": [
   ],
   "source": [
    "# Create Model\n",
    "# Decision trees - good for numerical and categorical data\n",
    "model = DecisionTreeClassifier(max_depth=5)"
   ]
  },
  {
   "cell_type": "code",
   "execution_count": 199,
   "id": "cf7ecd",
   "metadata": {
    "collapsed": false
   },
   "outputs": [
    {
     "data": {
      "text/html": [
       "<style>#sk-container-id-4 {color: black;background-color: white;}#sk-container-id-4 pre{padding: 0;}#sk-container-id-4 div.sk-toggleable {background-color: white;}#sk-container-id-4 label.sk-toggleable__label {cursor: pointer;display: block;width: 100%;margin-bottom: 0;padding: 0.3em;box-sizing: border-box;text-align: center;}#sk-container-id-4 label.sk-toggleable__label-arrow:before {content: \"▸\";float: left;margin-right: 0.25em;color: #696969;}#sk-container-id-4 label.sk-toggleable__label-arrow:hover:before {color: black;}#sk-container-id-4 div.sk-estimator:hover label.sk-toggleable__label-arrow:before {color: black;}#sk-container-id-4 div.sk-toggleable__content {max-height: 0;max-width: 0;overflow: hidden;text-align: left;background-color: #f0f8ff;}#sk-container-id-4 div.sk-toggleable__content pre {margin: 0.2em;color: black;border-radius: 0.25em;background-color: #f0f8ff;}#sk-container-id-4 input.sk-toggleable__control:checked~div.sk-toggleable__content {max-height: 200px;max-width: 100%;overflow: auto;}#sk-container-id-4 input.sk-toggleable__control:checked~label.sk-toggleable__label-arrow:before {content: \"▾\";}#sk-container-id-4 div.sk-estimator input.sk-toggleable__control:checked~label.sk-toggleable__label {background-color: #d4ebff;}#sk-container-id-4 div.sk-label input.sk-toggleable__control:checked~label.sk-toggleable__label {background-color: #d4ebff;}#sk-container-id-4 input.sk-hidden--visually {border: 0;clip: rect(1px 1px 1px 1px);clip: rect(1px, 1px, 1px, 1px);height: 1px;margin: -1px;overflow: hidden;padding: 0;position: absolute;width: 1px;}#sk-container-id-4 div.sk-estimator {font-family: monospace;background-color: #f0f8ff;border: 1px dotted black;border-radius: 0.25em;box-sizing: border-box;margin-bottom: 0.5em;}#sk-container-id-4 div.sk-estimator:hover {background-color: #d4ebff;}#sk-container-id-4 div.sk-parallel-item::after {content: \"\";width: 100%;border-bottom: 1px solid gray;flex-grow: 1;}#sk-container-id-4 div.sk-label:hover label.sk-toggleable__label {background-color: #d4ebff;}#sk-container-id-4 div.sk-serial::before {content: \"\";position: absolute;border-left: 1px solid gray;box-sizing: border-box;top: 0;bottom: 0;left: 50%;z-index: 0;}#sk-container-id-4 div.sk-serial {display: flex;flex-direction: column;align-items: center;background-color: white;padding-right: 0.2em;padding-left: 0.2em;position: relative;}#sk-container-id-4 div.sk-item {position: relative;z-index: 1;}#sk-container-id-4 div.sk-parallel {display: flex;align-items: stretch;justify-content: center;background-color: white;position: relative;}#sk-container-id-4 div.sk-item::before, #sk-container-id-4 div.sk-parallel-item::before {content: \"\";position: absolute;border-left: 1px solid gray;box-sizing: border-box;top: 0;bottom: 0;left: 50%;z-index: -1;}#sk-container-id-4 div.sk-parallel-item {display: flex;flex-direction: column;z-index: 1;position: relative;background-color: white;}#sk-container-id-4 div.sk-parallel-item:first-child::after {align-self: flex-end;width: 50%;}#sk-container-id-4 div.sk-parallel-item:last-child::after {align-self: flex-start;width: 50%;}#sk-container-id-4 div.sk-parallel-item:only-child::after {width: 0;}#sk-container-id-4 div.sk-dashed-wrapped {border: 1px dashed gray;margin: 0 0.4em 0.5em 0.4em;box-sizing: border-box;padding-bottom: 0.4em;background-color: white;}#sk-container-id-4 div.sk-label label {font-family: monospace;font-weight: bold;display: inline-block;line-height: 1.2em;}#sk-container-id-4 div.sk-label-container {text-align: center;}#sk-container-id-4 div.sk-container {/* jupyter's `normalize.less` sets `[hidden] { display: none; }` but bootstrap.min.css set `[hidden] { display: none !important; }` so we also need the `!important` here to be able to override the default hidden behavior on the sphinx rendered scikit-learn.org. See: https://github.com/scikit-learn/scikit-learn/issues/21755 */display: inline-block !important;position: relative;}#sk-container-id-4 div.sk-text-repr-fallback {display: none;}</style><div id=\"sk-container-id-4\" class=\"sk-top-container\"><div class=\"sk-text-repr-fallback\"><pre>DecisionTreeClassifier(max_depth=5)</pre><b>In a Jupyter environment, please rerun this cell to show the HTML representation or trust the notebook. <br />On GitHub, the HTML representation is unable to render, please try loading this page with nbviewer.org.</b></div><div class=\"sk-container\" hidden><div class=\"sk-item\"><div class=\"sk-estimator sk-toggleable\"><input class=\"sk-toggleable__control sk-hidden--visually\" id=\"sk-estimator-id-4\" type=\"checkbox\" checked><label for=\"sk-estimator-id-4\" class=\"sk-toggleable__label sk-toggleable__label-arrow\">DecisionTreeClassifier</label><div class=\"sk-toggleable__content\"><pre>DecisionTreeClassifier(max_depth=5)</pre></div></div></div></div></div>"
      ],
      "text/plain": [
       "DecisionTreeClassifier(max_depth=5)"
      ]
     },
     "execution_count": 199,
     "metadata": {
     },
     "output_type": "execute_result"
    }
   ],
   "source": [
    "model.fit(x_train, y_train)"
   ]
  },
  {
   "cell_type": "code",
   "execution_count": 200,
   "id": "01b5e0",
   "metadata": {
    "collapsed": false
   },
   "outputs": [
   ],
   "source": [
    "# from sklearn.neighbors import KNeighborsClassifier \n",
    "# knn = KNeighborsClassifier(n_neighbors = 7)"
   ]
  },
  {
   "cell_type": "code",
   "execution_count": 201,
   "id": "0d75b1",
   "metadata": {
    "collapsed": false
   },
   "outputs": [
    {
     "name": "stdout",
     "output_type": "stream",
     "text": [
      "R² score on the validation set: 0.95\n"
     ]
    }
   ],
   "source": [
    "# R2 - shows I have a good model and since validation set also scores highly model is performing well\n",
    "y_val_pred = model.predict(x_val)\n",
    "r2 = r2_score(y_val, y_val_pred)\n",
    "print(f\"R² score on the validation set: {r2:.2f}\")"
   ]
  },
  {
   "cell_type": "code",
   "execution_count": 202,
   "id": "b6245b",
   "metadata": {
    "collapsed": false
   },
   "outputs": [
    {
     "name": "stdout",
     "output_type": "stream",
     "text": [
      "Validation Accuracy: 0.8258695431545677\n"
     ]
    }
   ],
   "source": [
    "# Cross-Validating data\n",
    "cv = StratifiedKFold(n_splits=5) # ensures data is distributed evenly\n",
    "val_score = cross_val_score(model, x_val, y_val, cv=cv, scoring='accuracy') # estimates how well model will perform on the test data\n",
    "print(f'Validation Accuracy: {val_score.mean()}')"
   ]
  },
  {
   "cell_type": "code",
   "execution_count": 203,
   "id": "7e02d0",
   "metadata": {
    "collapsed": false
   },
   "outputs": [
   ],
   "source": [
    "# officially predicting ypred\n",
    "ypred = model.predict(xtest)"
   ]
  },
  {
   "cell_type": "code",
   "execution_count": 204,
   "id": "60119f",
   "metadata": {
    "collapsed": false
   },
   "outputs": [
   ],
   "source": [
    "# mapping it so it can be used \n",
    "ypred_series = pd.Series(ypred)\n",
    "\n",
    "Weight_code_reverse = {\n",
    "    1: 'Insufficient_Weight',\n",
    "    2: 'Normal_Weight',\n",
    "    3: 'Overweight_Level_I',\n",
    "    4: 'Overweight_Level_II',\n",
    "    5: 'Obesity_Type_I',\n",
    "    6: 'Obesity_Type_II',\n",
    "    7: 'Obesity_Type_III'\n",
    "}\n",
    "\n",
    "ypred_mapped = ypred_series.map(Weight_code_reverse)"
   ]
  },
  {
   "cell_type": "code",
   "execution_count": 205,
   "id": "f49a10",
   "metadata": {
    "collapsed": false
   },
   "outputs": [
   ],
   "source": [
    "# back to a numpy array so it can be submitted\n",
    "ypred2 = np.array(ypred_mapped)"
   ]
  },
  {
   "cell_type": "code",
   "execution_count": 207,
   "id": "ce5ec6",
   "metadata": {
    "collapsed": false
   },
   "outputs": [
   ],
   "source": [
    "# writing new df for submission\n",
    "submission = pd.DataFrame({'NObeyesdad': ypred2}, index=xtest.index)"
   ]
  },
  {
   "cell_type": "code",
   "execution_count": 209,
   "id": "85276a",
   "metadata": {
    "collapsed": false
   },
   "outputs": [
   ],
   "source": [
    "# writing to csv to submit\n",
    "submission.to_csv('submission.csv', index=True)"
   ]
  }
 ],
 "metadata": {
  "kernelspec": {
   "argv": [
    "/ext/jupyter/kernels/anaconda2022/launch.sh",
    "{connection_file}"
   ],
   "display_name": "Python 3 (Anaconda 2022)",
   "env": {
   },
   "language": "python",
   "metadata": {
    "cocalc": {
     "description": "Anaconda 2022.05 Python 3 environment",
     "priority": 5,
     "url": "https://www.anaconda.com/distribution/"
    }
   },
   "name": "anaconda2022",
   "resource_dir": "/ext/jupyter/kernels/anaconda2022"
  },
  "language_info": {
   "codemirror_mode": {
    "name": "ipython",
    "version": 3
   },
   "file_extension": ".py",
   "mimetype": "text/x-python",
   "name": "python",
   "nbconvert_exporter": "python",
   "pygments_lexer": "ipython3",
   "version": "3.9.15"
  }
 },
 "nbformat": 4,
 "nbformat_minor": 4
}